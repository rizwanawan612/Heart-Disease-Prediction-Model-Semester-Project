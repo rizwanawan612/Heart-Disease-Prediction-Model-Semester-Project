{
 "cells": [
  {
   "cell_type": "markdown",
   "metadata": {},
   "source": [
    "# K Nearest Neighbors\n",
    "\n",
    "They've hidden the feature column names but have given you the data and the target classes. \n",
    "\n",
    "We'll try to use KNN to create a model that directly predicts a class for a new data point based on the features.\n"
   ]
  },
  {
   "cell_type": "markdown",
   "metadata": {},
   "source": [
    "## Import Libraries\n",
    "\n"
   ]
  },
  {
   "cell_type": "code",
   "execution_count": 1,
   "metadata": {},
   "outputs": [],
   "source": [
    "import pandas as pd\n",
    "import seaborn as sns\n",
    "import matplotlib.pyplot as plt\n",
    "import numpy as np\n",
    "%matplotlib inline"
   ]
  },
  {
   "cell_type": "markdown",
   "metadata": {},
   "source": [
    "## Get the Data\n",
    "\n",
    "Set index_col=0 to use the first column as the index."
   ]
  },
  {
   "cell_type": "code",
   "execution_count": 3,
   "metadata": {},
   "outputs": [],
   "source": [
    "df = pd.read_csv(\"Classified Data\",index_col=0)"
   ]
  },
  {
   "cell_type": "code",
   "execution_count": 5,
   "metadata": {},
   "outputs": [
    {
     "data": {
      "text/html": [
       "<div>\n",
       "<style scoped>\n",
       "    .dataframe tbody tr th:only-of-type {\n",
       "        vertical-align: middle;\n",
       "    }\n",
       "\n",
       "    .dataframe tbody tr th {\n",
       "        vertical-align: top;\n",
       "    }\n",
       "\n",
       "    .dataframe thead th {\n",
       "        text-align: right;\n",
       "    }\n",
       "</style>\n",
       "<table border=\"1\" class=\"dataframe\">\n",
       "  <thead>\n",
       "    <tr style=\"text-align: right;\">\n",
       "      <th></th>\n",
       "      <th>WTT</th>\n",
       "      <th>PTI</th>\n",
       "      <th>EQW</th>\n",
       "      <th>SBI</th>\n",
       "      <th>LQE</th>\n",
       "      <th>QWG</th>\n",
       "      <th>FDJ</th>\n",
       "      <th>PJF</th>\n",
       "      <th>HQE</th>\n",
       "      <th>NXJ</th>\n",
       "      <th>TARGET CLASS</th>\n",
       "    </tr>\n",
       "  </thead>\n",
       "  <tbody>\n",
       "    <tr>\n",
       "      <th>0</th>\n",
       "      <td>0.913917</td>\n",
       "      <td>1.162073</td>\n",
       "      <td>0.567946</td>\n",
       "      <td>0.755464</td>\n",
       "      <td>0.780862</td>\n",
       "      <td>0.352608</td>\n",
       "      <td>0.759697</td>\n",
       "      <td>0.643798</td>\n",
       "      <td>0.879422</td>\n",
       "      <td>1.231409</td>\n",
       "      <td>1</td>\n",
       "    </tr>\n",
       "    <tr>\n",
       "      <th>1</th>\n",
       "      <td>0.635632</td>\n",
       "      <td>1.003722</td>\n",
       "      <td>0.535342</td>\n",
       "      <td>0.825645</td>\n",
       "      <td>0.924109</td>\n",
       "      <td>0.648450</td>\n",
       "      <td>0.675334</td>\n",
       "      <td>1.013546</td>\n",
       "      <td>0.621552</td>\n",
       "      <td>1.492702</td>\n",
       "      <td>0</td>\n",
       "    </tr>\n",
       "    <tr>\n",
       "      <th>2</th>\n",
       "      <td>0.721360</td>\n",
       "      <td>1.201493</td>\n",
       "      <td>0.921990</td>\n",
       "      <td>0.855595</td>\n",
       "      <td>1.526629</td>\n",
       "      <td>0.720781</td>\n",
       "      <td>1.626351</td>\n",
       "      <td>1.154483</td>\n",
       "      <td>0.957877</td>\n",
       "      <td>1.285597</td>\n",
       "      <td>0</td>\n",
       "    </tr>\n",
       "    <tr>\n",
       "      <th>3</th>\n",
       "      <td>1.234204</td>\n",
       "      <td>1.386726</td>\n",
       "      <td>0.653046</td>\n",
       "      <td>0.825624</td>\n",
       "      <td>1.142504</td>\n",
       "      <td>0.875128</td>\n",
       "      <td>1.409708</td>\n",
       "      <td>1.380003</td>\n",
       "      <td>1.522692</td>\n",
       "      <td>1.153093</td>\n",
       "      <td>1</td>\n",
       "    </tr>\n",
       "    <tr>\n",
       "      <th>4</th>\n",
       "      <td>1.279491</td>\n",
       "      <td>0.949750</td>\n",
       "      <td>0.627280</td>\n",
       "      <td>0.668976</td>\n",
       "      <td>1.232537</td>\n",
       "      <td>0.703727</td>\n",
       "      <td>1.115596</td>\n",
       "      <td>0.646691</td>\n",
       "      <td>1.463812</td>\n",
       "      <td>1.419167</td>\n",
       "      <td>1</td>\n",
       "    </tr>\n",
       "    <tr>\n",
       "      <th>5</th>\n",
       "      <td>0.833928</td>\n",
       "      <td>1.523302</td>\n",
       "      <td>1.104743</td>\n",
       "      <td>1.021139</td>\n",
       "      <td>1.107377</td>\n",
       "      <td>1.010930</td>\n",
       "      <td>1.279538</td>\n",
       "      <td>1.280677</td>\n",
       "      <td>0.510350</td>\n",
       "      <td>1.528044</td>\n",
       "      <td>0</td>\n",
       "    </tr>\n",
       "    <tr>\n",
       "      <th>6</th>\n",
       "      <td>0.944705</td>\n",
       "      <td>1.251761</td>\n",
       "      <td>1.074885</td>\n",
       "      <td>0.286473</td>\n",
       "      <td>0.996440</td>\n",
       "      <td>0.428860</td>\n",
       "      <td>0.910805</td>\n",
       "      <td>0.755305</td>\n",
       "      <td>1.111800</td>\n",
       "      <td>1.110842</td>\n",
       "      <td>0</td>\n",
       "    </tr>\n",
       "    <tr>\n",
       "      <th>7</th>\n",
       "      <td>0.816174</td>\n",
       "      <td>1.088392</td>\n",
       "      <td>0.895343</td>\n",
       "      <td>0.243860</td>\n",
       "      <td>0.943123</td>\n",
       "      <td>1.045131</td>\n",
       "      <td>1.146536</td>\n",
       "      <td>1.341886</td>\n",
       "      <td>1.225324</td>\n",
       "      <td>1.425784</td>\n",
       "      <td>0</td>\n",
       "    </tr>\n",
       "    <tr>\n",
       "      <th>8</th>\n",
       "      <td>0.776551</td>\n",
       "      <td>1.463812</td>\n",
       "      <td>0.783825</td>\n",
       "      <td>0.337278</td>\n",
       "      <td>0.742215</td>\n",
       "      <td>1.072756</td>\n",
       "      <td>0.880300</td>\n",
       "      <td>1.312951</td>\n",
       "      <td>1.118165</td>\n",
       "      <td>1.225922</td>\n",
       "      <td>0</td>\n",
       "    </tr>\n",
       "    <tr>\n",
       "      <th>9</th>\n",
       "      <td>0.772280</td>\n",
       "      <td>0.515111</td>\n",
       "      <td>0.891596</td>\n",
       "      <td>0.940862</td>\n",
       "      <td>1.430568</td>\n",
       "      <td>0.885876</td>\n",
       "      <td>1.205231</td>\n",
       "      <td>0.596858</td>\n",
       "      <td>1.542580</td>\n",
       "      <td>0.981879</td>\n",
       "      <td>1</td>\n",
       "    </tr>\n",
       "    <tr>\n",
       "      <th>10</th>\n",
       "      <td>1.284999</td>\n",
       "      <td>1.331018</td>\n",
       "      <td>0.618910</td>\n",
       "      <td>0.657017</td>\n",
       "      <td>1.037191</td>\n",
       "      <td>0.717346</td>\n",
       "      <td>0.778501</td>\n",
       "      <td>0.599317</td>\n",
       "      <td>1.245676</td>\n",
       "      <td>1.441695</td>\n",
       "      <td>1</td>\n",
       "    </tr>\n",
       "    <tr>\n",
       "      <th>11</th>\n",
       "      <td>1.064356</td>\n",
       "      <td>1.414885</td>\n",
       "      <td>0.896798</td>\n",
       "      <td>0.629088</td>\n",
       "      <td>1.447704</td>\n",
       "      <td>0.791923</td>\n",
       "      <td>0.921676</td>\n",
       "      <td>1.237249</td>\n",
       "      <td>0.564281</td>\n",
       "      <td>1.423668</td>\n",
       "      <td>0</td>\n",
       "    </tr>\n",
       "    <tr>\n",
       "      <th>12</th>\n",
       "      <td>0.682953</td>\n",
       "      <td>1.254723</td>\n",
       "      <td>0.998870</td>\n",
       "      <td>0.397701</td>\n",
       "      <td>1.011621</td>\n",
       "      <td>0.567863</td>\n",
       "      <td>1.335120</td>\n",
       "      <td>1.093735</td>\n",
       "      <td>0.847015</td>\n",
       "      <td>1.374779</td>\n",
       "      <td>0</td>\n",
       "    </tr>\n",
       "    <tr>\n",
       "      <th>13</th>\n",
       "      <td>0.953318</td>\n",
       "      <td>1.318987</td>\n",
       "      <td>0.562921</td>\n",
       "      <td>0.905503</td>\n",
       "      <td>1.248314</td>\n",
       "      <td>0.677795</td>\n",
       "      <td>1.017305</td>\n",
       "      <td>0.528065</td>\n",
       "      <td>1.541712</td>\n",
       "      <td>1.118960</td>\n",
       "      <td>1</td>\n",
       "    </tr>\n",
       "    <tr>\n",
       "      <th>14</th>\n",
       "      <td>0.801268</td>\n",
       "      <td>0.936390</td>\n",
       "      <td>0.696960</td>\n",
       "      <td>0.972440</td>\n",
       "      <td>0.851299</td>\n",
       "      <td>1.443119</td>\n",
       "      <td>1.194476</td>\n",
       "      <td>1.641496</td>\n",
       "      <td>1.118737</td>\n",
       "      <td>1.426573</td>\n",
       "      <td>0</td>\n",
       "    </tr>\n",
       "    <tr>\n",
       "      <th>15</th>\n",
       "      <td>1.061691</td>\n",
       "      <td>1.044892</td>\n",
       "      <td>0.599729</td>\n",
       "      <td>0.465285</td>\n",
       "      <td>0.930288</td>\n",
       "      <td>0.974341</td>\n",
       "      <td>1.213450</td>\n",
       "      <td>1.247551</td>\n",
       "      <td>1.217625</td>\n",
       "      <td>1.623154</td>\n",
       "      <td>1</td>\n",
       "    </tr>\n",
       "    <tr>\n",
       "      <th>16</th>\n",
       "      <td>0.715645</td>\n",
       "      <td>1.378594</td>\n",
       "      <td>0.997797</td>\n",
       "      <td>0.674996</td>\n",
       "      <td>1.228928</td>\n",
       "      <td>1.223293</td>\n",
       "      <td>0.589346</td>\n",
       "      <td>1.559900</td>\n",
       "      <td>0.845324</td>\n",
       "      <td>1.248714</td>\n",
       "      <td>0</td>\n",
       "    </tr>\n",
       "    <tr>\n",
       "      <th>17</th>\n",
       "      <td>0.899792</td>\n",
       "      <td>1.225875</td>\n",
       "      <td>1.330887</td>\n",
       "      <td>0.335989</td>\n",
       "      <td>1.273570</td>\n",
       "      <td>1.100361</td>\n",
       "      <td>1.019617</td>\n",
       "      <td>1.223891</td>\n",
       "      <td>1.113441</td>\n",
       "      <td>1.490151</td>\n",
       "      <td>0</td>\n",
       "    </tr>\n",
       "    <tr>\n",
       "      <th>18</th>\n",
       "      <td>0.883813</td>\n",
       "      <td>1.275891</td>\n",
       "      <td>0.924066</td>\n",
       "      <td>0.668814</td>\n",
       "      <td>1.269021</td>\n",
       "      <td>1.382093</td>\n",
       "      <td>0.728286</td>\n",
       "      <td>0.726723</td>\n",
       "      <td>0.975833</td>\n",
       "      <td>1.653815</td>\n",
       "      <td>0</td>\n",
       "    </tr>\n",
       "    <tr>\n",
       "      <th>19</th>\n",
       "      <td>0.768311</td>\n",
       "      <td>1.394304</td>\n",
       "      <td>0.823118</td>\n",
       "      <td>0.612072</td>\n",
       "      <td>1.267414</td>\n",
       "      <td>0.881943</td>\n",
       "      <td>1.104178</td>\n",
       "      <td>1.660998</td>\n",
       "      <td>0.742885</td>\n",
       "      <td>1.098704</td>\n",
       "      <td>0</td>\n",
       "    </tr>\n",
       "  </tbody>\n",
       "</table>\n",
       "</div>"
      ],
      "text/plain": [
       "         WTT       PTI       EQW       SBI       LQE       QWG       FDJ  \\\n",
       "0   0.913917  1.162073  0.567946  0.755464  0.780862  0.352608  0.759697   \n",
       "1   0.635632  1.003722  0.535342  0.825645  0.924109  0.648450  0.675334   \n",
       "2   0.721360  1.201493  0.921990  0.855595  1.526629  0.720781  1.626351   \n",
       "3   1.234204  1.386726  0.653046  0.825624  1.142504  0.875128  1.409708   \n",
       "4   1.279491  0.949750  0.627280  0.668976  1.232537  0.703727  1.115596   \n",
       "5   0.833928  1.523302  1.104743  1.021139  1.107377  1.010930  1.279538   \n",
       "6   0.944705  1.251761  1.074885  0.286473  0.996440  0.428860  0.910805   \n",
       "7   0.816174  1.088392  0.895343  0.243860  0.943123  1.045131  1.146536   \n",
       "8   0.776551  1.463812  0.783825  0.337278  0.742215  1.072756  0.880300   \n",
       "9   0.772280  0.515111  0.891596  0.940862  1.430568  0.885876  1.205231   \n",
       "10  1.284999  1.331018  0.618910  0.657017  1.037191  0.717346  0.778501   \n",
       "11  1.064356  1.414885  0.896798  0.629088  1.447704  0.791923  0.921676   \n",
       "12  0.682953  1.254723  0.998870  0.397701  1.011621  0.567863  1.335120   \n",
       "13  0.953318  1.318987  0.562921  0.905503  1.248314  0.677795  1.017305   \n",
       "14  0.801268  0.936390  0.696960  0.972440  0.851299  1.443119  1.194476   \n",
       "15  1.061691  1.044892  0.599729  0.465285  0.930288  0.974341  1.213450   \n",
       "16  0.715645  1.378594  0.997797  0.674996  1.228928  1.223293  0.589346   \n",
       "17  0.899792  1.225875  1.330887  0.335989  1.273570  1.100361  1.019617   \n",
       "18  0.883813  1.275891  0.924066  0.668814  1.269021  1.382093  0.728286   \n",
       "19  0.768311  1.394304  0.823118  0.612072  1.267414  0.881943  1.104178   \n",
       "\n",
       "         PJF       HQE       NXJ  TARGET CLASS  \n",
       "0   0.643798  0.879422  1.231409             1  \n",
       "1   1.013546  0.621552  1.492702             0  \n",
       "2   1.154483  0.957877  1.285597             0  \n",
       "3   1.380003  1.522692  1.153093             1  \n",
       "4   0.646691  1.463812  1.419167             1  \n",
       "5   1.280677  0.510350  1.528044             0  \n",
       "6   0.755305  1.111800  1.110842             0  \n",
       "7   1.341886  1.225324  1.425784             0  \n",
       "8   1.312951  1.118165  1.225922             0  \n",
       "9   0.596858  1.542580  0.981879             1  \n",
       "10  0.599317  1.245676  1.441695             1  \n",
       "11  1.237249  0.564281  1.423668             0  \n",
       "12  1.093735  0.847015  1.374779             0  \n",
       "13  0.528065  1.541712  1.118960             1  \n",
       "14  1.641496  1.118737  1.426573             0  \n",
       "15  1.247551  1.217625  1.623154             1  \n",
       "16  1.559900  0.845324  1.248714             0  \n",
       "17  1.223891  1.113441  1.490151             0  \n",
       "18  0.726723  0.975833  1.653815             0  \n",
       "19  1.660998  0.742885  1.098704             0  "
      ]
     },
     "execution_count": 5,
     "metadata": {},
     "output_type": "execute_result"
    }
   ],
   "source": [
    "df.head(20)"
   ]
  },
  {
   "cell_type": "markdown",
   "metadata": {},
   "source": [
    "## Standardize the Variables\n",
    "\n",
    "Because the KNN classifier predicts the class of a given test observation by identifying the observations that are nearest to it, the scale of the variables matters. Any variables that are on a large scale will have a much larger effect on the distance between the observations, and hence on the KNN classifier, than variables that are on a small scale."
   ]
  },
  {
   "cell_type": "code",
   "execution_count": 6,
   "metadata": {},
   "outputs": [],
   "source": [
    "from sklearn.preprocessing import StandardScaler"
   ]
  },
  {
   "cell_type": "code",
   "execution_count": 7,
   "metadata": {},
   "outputs": [],
   "source": [
    "scaler = StandardScaler()"
   ]
  },
  {
   "cell_type": "code",
   "execution_count": 8,
   "metadata": {},
   "outputs": [
    {
     "data": {
      "text/plain": [
       "StandardScaler()"
      ]
     },
     "execution_count": 8,
     "metadata": {},
     "output_type": "execute_result"
    }
   ],
   "source": [
    "scaler.fit(df.drop('TARGET CLASS',axis=1))"
   ]
  },
  {
   "cell_type": "code",
   "execution_count": 9,
   "metadata": {},
   "outputs": [],
   "source": [
    "scaled_features = scaler.transform(df.drop('TARGET CLASS',axis=1))"
   ]
  },
  {
   "cell_type": "code",
   "execution_count": 10,
   "metadata": {},
   "outputs": [
    {
     "data": {
      "text/html": [
       "<div>\n",
       "<style scoped>\n",
       "    .dataframe tbody tr th:only-of-type {\n",
       "        vertical-align: middle;\n",
       "    }\n",
       "\n",
       "    .dataframe tbody tr th {\n",
       "        vertical-align: top;\n",
       "    }\n",
       "\n",
       "    .dataframe thead th {\n",
       "        text-align: right;\n",
       "    }\n",
       "</style>\n",
       "<table border=\"1\" class=\"dataframe\">\n",
       "  <thead>\n",
       "    <tr style=\"text-align: right;\">\n",
       "      <th></th>\n",
       "      <th>WTT</th>\n",
       "      <th>PTI</th>\n",
       "      <th>EQW</th>\n",
       "      <th>SBI</th>\n",
       "      <th>LQE</th>\n",
       "      <th>QWG</th>\n",
       "      <th>FDJ</th>\n",
       "      <th>PJF</th>\n",
       "      <th>HQE</th>\n",
       "      <th>NXJ</th>\n",
       "    </tr>\n",
       "  </thead>\n",
       "  <tbody>\n",
       "    <tr>\n",
       "      <th>0</th>\n",
       "      <td>-0.123542</td>\n",
       "      <td>0.185907</td>\n",
       "      <td>-0.913431</td>\n",
       "      <td>0.319629</td>\n",
       "      <td>-1.033637</td>\n",
       "      <td>-2.308375</td>\n",
       "      <td>-0.798951</td>\n",
       "      <td>-1.482368</td>\n",
       "      <td>-0.949719</td>\n",
       "      <td>-0.643314</td>\n",
       "    </tr>\n",
       "    <tr>\n",
       "      <th>1</th>\n",
       "      <td>-1.084836</td>\n",
       "      <td>-0.430348</td>\n",
       "      <td>-1.025313</td>\n",
       "      <td>0.625388</td>\n",
       "      <td>-0.444847</td>\n",
       "      <td>-1.152706</td>\n",
       "      <td>-1.129797</td>\n",
       "      <td>-0.202240</td>\n",
       "      <td>-1.828051</td>\n",
       "      <td>0.636759</td>\n",
       "    </tr>\n",
       "    <tr>\n",
       "      <th>2</th>\n",
       "      <td>-0.788702</td>\n",
       "      <td>0.339318</td>\n",
       "      <td>0.301511</td>\n",
       "      <td>0.755873</td>\n",
       "      <td>2.031693</td>\n",
       "      <td>-0.870156</td>\n",
       "      <td>2.599818</td>\n",
       "      <td>0.285707</td>\n",
       "      <td>-0.682494</td>\n",
       "      <td>-0.377850</td>\n",
       "    </tr>\n",
       "    <tr>\n",
       "      <th>3</th>\n",
       "      <td>0.982841</td>\n",
       "      <td>1.060193</td>\n",
       "      <td>-0.621399</td>\n",
       "      <td>0.625299</td>\n",
       "      <td>0.452820</td>\n",
       "      <td>-0.267220</td>\n",
       "      <td>1.750208</td>\n",
       "      <td>1.066491</td>\n",
       "      <td>1.241325</td>\n",
       "      <td>-1.026987</td>\n",
       "    </tr>\n",
       "    <tr>\n",
       "      <th>4</th>\n",
       "      <td>1.139275</td>\n",
       "      <td>-0.640392</td>\n",
       "      <td>-0.709819</td>\n",
       "      <td>-0.057175</td>\n",
       "      <td>0.822886</td>\n",
       "      <td>-0.936773</td>\n",
       "      <td>0.596782</td>\n",
       "      <td>-1.472352</td>\n",
       "      <td>1.040772</td>\n",
       "      <td>0.276510</td>\n",
       "    </tr>\n",
       "  </tbody>\n",
       "</table>\n",
       "</div>"
      ],
      "text/plain": [
       "        WTT       PTI       EQW       SBI       LQE       QWG       FDJ  \\\n",
       "0 -0.123542  0.185907 -0.913431  0.319629 -1.033637 -2.308375 -0.798951   \n",
       "1 -1.084836 -0.430348 -1.025313  0.625388 -0.444847 -1.152706 -1.129797   \n",
       "2 -0.788702  0.339318  0.301511  0.755873  2.031693 -0.870156  2.599818   \n",
       "3  0.982841  1.060193 -0.621399  0.625299  0.452820 -0.267220  1.750208   \n",
       "4  1.139275 -0.640392 -0.709819 -0.057175  0.822886 -0.936773  0.596782   \n",
       "\n",
       "        PJF       HQE       NXJ  \n",
       "0 -1.482368 -0.949719 -0.643314  \n",
       "1 -0.202240 -1.828051  0.636759  \n",
       "2  0.285707 -0.682494 -0.377850  \n",
       "3  1.066491  1.241325 -1.026987  \n",
       "4 -1.472352  1.040772  0.276510  "
      ]
     },
     "execution_count": 10,
     "metadata": {},
     "output_type": "execute_result"
    }
   ],
   "source": [
    "df_feat = pd.DataFrame(scaled_features,columns=df.columns[:-1])\n",
    "df_feat.head()"
   ]
  },
  {
   "cell_type": "markdown",
   "metadata": {},
   "source": [
    "## Train Test Split"
   ]
  },
  {
   "cell_type": "code",
   "execution_count": 12,
   "metadata": {},
   "outputs": [],
   "source": [
    "from sklearn.model_selection import train_test_split"
   ]
  },
  {
   "cell_type": "code",
   "execution_count": 13,
   "metadata": {},
   "outputs": [],
   "source": [
    "X_train, X_test, y_train, y_test = train_test_split(scaled_features,df['TARGET CLASS'],\n",
    "                                                    test_size=0.30)"
   ]
  },
  {
   "cell_type": "markdown",
   "metadata": {},
   "source": [
    "## Using KNN\n",
    "\n",
    "Remember that we are trying to come up with a model to predict whether someone will TARGET CLASS or not. We'll start with k=1."
   ]
  },
  {
   "cell_type": "code",
   "execution_count": 14,
   "metadata": {},
   "outputs": [],
   "source": [
    "from sklearn.neighbors import KNeighborsClassifier"
   ]
  },
  {
   "cell_type": "code",
   "execution_count": 15,
   "metadata": {},
   "outputs": [],
   "source": [
    "knn = KNeighborsClassifier(n_neighbors=1)"
   ]
  },
  {
   "cell_type": "code",
   "execution_count": 16,
   "metadata": {},
   "outputs": [
    {
     "data": {
      "text/plain": [
       "KNeighborsClassifier(n_neighbors=1)"
      ]
     },
     "execution_count": 16,
     "metadata": {},
     "output_type": "execute_result"
    }
   ],
   "source": [
    "knn.fit(X_train,y_train)"
   ]
  },
  {
   "cell_type": "code",
   "execution_count": 17,
   "metadata": {},
   "outputs": [],
   "source": [
    "pred = knn.predict(X_test)"
   ]
  },
  {
   "cell_type": "markdown",
   "metadata": {},
   "source": [
    "## Predictions and Evaluations\n",
    "\n",
    "Let's evaluate our KNN model!"
   ]
  },
  {
   "cell_type": "code",
   "execution_count": 18,
   "metadata": {},
   "outputs": [],
   "source": [
    "from sklearn.metrics import classification_report,confusion_matrix\n",
    "from sklearn.model_selection import cross_val_score"
   ]
  },
  {
   "cell_type": "code",
   "execution_count": 19,
   "metadata": {},
   "outputs": [
    {
     "name": "stdout",
     "output_type": "stream",
     "text": [
      "[[138  14]\n",
      " [ 11 137]]\n"
     ]
    }
   ],
   "source": [
    "print(confusion_matrix(y_test,pred))"
   ]
  },
  {
   "cell_type": "code",
   "execution_count": 20,
   "metadata": {},
   "outputs": [
    {
     "name": "stdout",
     "output_type": "stream",
     "text": [
      "              precision    recall  f1-score   support\n",
      "\n",
      "           0       0.93      0.91      0.92       152\n",
      "           1       0.91      0.93      0.92       148\n",
      "\n",
      "    accuracy                           0.92       300\n",
      "   macro avg       0.92      0.92      0.92       300\n",
      "weighted avg       0.92      0.92      0.92       300\n",
      "\n"
     ]
    }
   ],
   "source": [
    "print(classification_report(y_test,pred))"
   ]
  },
  {
   "cell_type": "markdown",
   "metadata": {},
   "source": [
    "## Choosing a K Value\n",
    "\n",
    "Let's go ahead and use the elbow method to pick a good K Value:\n",
    "<br> Elbow Method in Supervised Machine Learning(Optimal K Value)\n",
    "Elbow method helps data scientists to select the optimal number of clusters for KNN clustering. It is one of the most popular methods to determine this optimal value of K"
   ]
  },
  {
   "cell_type": "code",
   "execution_count": 21,
   "metadata": {},
   "outputs": [],
   "source": [
    "# https://towardsdatascience.com/cross-validation-using-knn-6babb6e619c8 \n",
    "accuracy_rate = []\n",
    "\n",
    "# Will take some time\n",
    "for i in range(1,40):\n",
    "    \n",
    "    knn = KNeighborsClassifier(n_neighbors=i)\n",
    "    score=cross_val_score(knn,df_feat,df['TARGET CLASS'],cv=10)\n",
    "    accuracy_rate.append(score.mean())"
   ]
  },
  {
   "cell_type": "code",
   "execution_count": 22,
   "metadata": {},
   "outputs": [],
   "source": [
    "error_rate = []\n",
    "\n",
    "# Will take some time\n",
    "for i in range(1,40):\n",
    "    \n",
    "    knn = KNeighborsClassifier(n_neighbors=i)\n",
    "    score=cross_val_score(knn,df_feat,df['TARGET CLASS'],cv=10)\n",
    "    error_rate.append(1-score.mean())"
   ]
  },
  {
   "cell_type": "code",
   "execution_count": 24,
   "metadata": {},
   "outputs": [
    {
     "data": {
      "text/plain": [
       "Text(0, 0.5, 'Error Rate')"
      ]
     },
     "execution_count": 24,
     "metadata": {},
     "output_type": "execute_result"
    },
    {
     "data": {
      "image/png": "[encoded data removed]",
      "text/plain": [
       "<Figure size 720x432 with 1 Axes>"
      ]
     },
     "metadata": {
      "needs_background": "light"
     },
     "output_type": "display_data"
    }
   ],
   "source": [
    "plt.figure(figsize=(10,6))\n",
    "plt.plot(range(1,40),error_rate,color='blue', linestyle='dashed', marker='o',\n",
    "       markerfacecolor='red', markersize=10)\n",
    "#plt.plot(range(1,40),accuracy_rate,color='blue', linestyle='dashed', marker='o',\n",
    "       # markerfacecolor='red', markersize=10)\n",
    "plt.title('Error Rate vs. K Value')\n",
    "plt.xlabel('K')\n",
    "plt.ylabel('Error Rate')"
   ]
  },
  {
   "cell_type": "markdown",
   "metadata": {},
   "source": [
    "Here we can see that that after arouns K>23 the error rate just tends to hover around 0.06-0.05 Let's retrain the model with that and check the classification report!"
   ]
  },
  {
   "cell_type": "code",
   "execution_count": 25,
   "metadata": {},
   "outputs": [
    {
     "name": "stdout",
     "output_type": "stream",
     "text": [
      "WITH K=1\n",
      "\n",
      "\n",
      "[[138  14]\n",
      " [ 11 137]]\n",
      "\n",
      "\n",
      "              precision    recall  f1-score   support\n",
      "\n",
      "           0       0.93      0.91      0.92       152\n",
      "           1       0.91      0.93      0.92       148\n",
      "\n",
      "    accuracy                           0.92       300\n",
      "   macro avg       0.92      0.92      0.92       300\n",
      "weighted avg       0.92      0.92      0.92       300\n",
      "\n",
      "\n",
      "Confussion matrix:\n",
      " [[138  14]\n",
      " [ 11 137]]\n"
     ]
    }
   ],
   "source": [
    "# FIRST A QUICK COMPARISON TO OUR ORIGINAL K=1\n",
    "knn = KNeighborsClassifier(n_neighbors=1)\n",
    "\n",
    "knn.fit(X_train,y_train)\n",
    "pred = knn.predict(X_test)\n",
    "\n",
    "print('WITH K=1')\n",
    "print('\\n')\n",
    "print(confusion_matrix(y_test,pred))\n",
    "print('\\n')\n",
    "print(classification_report(y_test,pred))\n",
    "print ('\\nConfussion matrix:\\n',confusion_matrix(y_test,pred))\n"
   ]
  },
  {
   "cell_type": "code",
   "execution_count": 26,
   "metadata": {},
   "outputs": [
    {
     "name": "stdout",
     "output_type": "stream",
     "text": [
      "WITH K=23\n",
      "\n",
      "\n",
      "[[140  12]\n",
      " [  5 143]]\n",
      "\n",
      "\n",
      "              precision    recall  f1-score   support\n",
      "\n",
      "           0       0.97      0.92      0.94       152\n",
      "           1       0.92      0.97      0.94       148\n",
      "\n",
      "    accuracy                           0.94       300\n",
      "   macro avg       0.94      0.94      0.94       300\n",
      "weighted avg       0.94      0.94      0.94       300\n",
      "\n"
     ]
    }
   ],
   "source": [
    "# NOW WITH K=23\n",
    "knn = KNeighborsClassifier(n_neighbors=23)\n",
    "\n",
    "knn.fit(X_train,y_train)\n",
    "pred = knn.predict(X_test)\n",
    "\n",
    "print('WITH K=23')\n",
    "print('\\n')\n",
    "print(confusion_matrix(y_test,pred))\n",
    "print('\\n')\n",
    "print(classification_report(y_test,pred))"
   ]
  },
  {
   "cell_type": "code",
   "execution_count": null,
   "metadata": {},
   "outputs": [],
   "source": []
  }
 ],
 "metadata": {
  "kernelspec": {
   "display_name": "Python 3",
   "language": "python",
   "name": "python3"
  },
  "language_info": {
   "codemirror_mode": {
    "name": "ipython",
    "version": 3
   },
   "file_extension": ".py",
   "mimetype": "text/x-python",
   "name": "python",
   "nbconvert_exporter": "python",
   "pygments_lexer": "ipython3",
   "version": "3.8.8"
  }
 },
 "nbformat": 4,
 "nbformat_minor": 1
}
